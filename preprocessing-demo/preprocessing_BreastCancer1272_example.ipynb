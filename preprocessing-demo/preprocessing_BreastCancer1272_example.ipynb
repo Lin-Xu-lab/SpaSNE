{
 "cells": [
  {
   "cell_type": "code",
   "execution_count": 1,
   "id": "a7cfcae2",
   "metadata": {},
   "outputs": [],
   "source": [
    "import pandas as pd\n",
    "import numpy as np\n",
    "import scanpy as sc\n",
    "import matplotlib.pyplot as plt\n",
    "from sklearn.decomposition import PCA\n"
   ]
  },
  {
   "cell_type": "code",
   "execution_count": 2,
   "id": "5056d667",
   "metadata": {},
   "outputs": [],
   "source": [
    "# Replacing empty entries with 'unsure'\n",
    "def fReplaceEmpty(X):\n",
    "    Y = X\n",
    "    idx = []\n",
    "    for k in range(len(X)):\n",
    "        if len(X[k]) == 0:\n",
    "                Y[k] = 'unsure'\n",
    "        else: \n",
    "            idx.append(k)\n",
    "    return Y, idx"
   ]
  },
  {
   "cell_type": "markdown",
   "id": "b986e220",
   "metadata": {},
   "source": [
    "Preprocessing raw count data by doing normalization and log transformation"
   ]
  },
  {
   "cell_type": "code",
   "execution_count": 3,
   "id": "6fe15787",
   "metadata": {},
   "outputs": [],
   "source": [
    "GetData = pd.read_csv('data/human_BreastCancer2518_raw.csv',sep=\",\",header=0,na_filter=False,index_col=0) \n",
    "GetLabel = pd.read_csv('data/human_BreastCancer2518_labels.csv',sep=\",\",header=0,na_filter=False,index_col=0)\n",
    "cell_cluster_gt = list(GetLabel['type'])\n",
    "xpixels = list(GetLabel['x'])\n",
    "ypixels = list(GetLabel['y'])\n",
    "\n",
    "GeneNames = list(GetData.columns)\n",
    "cell_num = GetData.shape[0]\n",
    "cell_idx = ['C_' + str(i) for i in list(range(GetData.shape[0]))]\n",
    "df_data = GetData\n",
    "df_data.index = cell_idx\n",
    "df_genes = pd.DataFrame(GeneNames, index = GeneNames,columns =['Genes'] )\n",
    "df_pixel = pd.DataFrame(list(zip(xpixels, ypixels)),\n",
    "               columns =['x_pixel', 'y_pixel'])\n",
    "df_labels = pd.DataFrame(cell_cluster_gt, columns =['gt'])\n",
    "df_pixel.index = cell_idx\n",
    "# Creating AnnData object\n",
    "adata = sc.AnnData(X = df_data, obs = df_pixel, var = df_genes)\n",
    "# Doing normalization and log transformation\n",
    "sc.pp.normalize_per_cell(adata)\n",
    "sc.pp.log1p(adata)\n",
    "df_data_transformed = pd.DataFrame(adata.X.T,index = GeneNames,columns = cell_idx)\n"
   ]
  },
  {
   "cell_type": "markdown",
   "id": "8fd2b7fa",
   "metadata": {},
   "source": [
    "Selecting 1272 spots with available annotations "
   ]
  },
  {
   "cell_type": "code",
   "execution_count": 4,
   "id": "9c9c0119",
   "metadata": {},
   "outputs": [],
   "source": [
    "# Selecting spots with available annotations\n",
    "cell_cluster_gt, gt_idx = fReplaceEmpty(cell_cluster_gt)\n",
    "df_gt_idx = np.array(pd.DataFrame(gt_idx, columns =['idx']))\n",
    "df_data_select = df_data_transformed.iloc[:,gt_idx].T\n",
    "N = df_data_select.shape[0]\n",
    "# Performing PCA and selecting 200 PCs\n",
    "pca = PCA()\n",
    "PCs = pca.fit_transform(df_data_select)\n",
    "df_PC200 = pd.DataFrame(PCs[:,:200], index = df_data_select.index)\n",
    "df_PC200.to_csv('human_BreastCancer'+str(N)+'_data_pc200.csv')\n",
    "df_labels_select = df_labels.iloc[gt_idx,:]\n",
    "df_pixel_select = df_pixel.iloc[gt_idx,:]\n",
    "df_labels_select.to_csv('human_BreastCancer'+str(N)+'_labels.csv')\n",
    "df_pixel_select.to_csv('human_BreastCancer'+str(N)+'_pixels.csv')"
   ]
  },
  {
   "cell_type": "code",
   "execution_count": null,
   "id": "40374992",
   "metadata": {},
   "outputs": [],
   "source": []
  }
 ],
 "metadata": {
  "kernelspec": {
   "display_name": "Python 3",
   "language": "python",
   "name": "python3"
  },
  "language_info": {
   "codemirror_mode": {
    "name": "ipython",
    "version": 3
   },
   "file_extension": ".py",
   "mimetype": "text/x-python",
   "name": "python",
   "nbconvert_exporter": "python",
   "pygments_lexer": "ipython3",
   "version": "3.8.8"
  }
 },
 "nbformat": 4,
 "nbformat_minor": 5
}
